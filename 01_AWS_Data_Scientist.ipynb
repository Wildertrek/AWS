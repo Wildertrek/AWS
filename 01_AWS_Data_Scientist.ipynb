{
 "cells": [
  {
   "cell_type": "markdown",
   "metadata": {},
   "source": [
    "## AWS Data Scientist\n",
    "Job ID: 794398 | Amazon Web Services, Inc.\n",
    "\n",
    "### DESCRIPTION\n",
    "Are you excited to leverage massive amounts of data in developing Machine Learning (ML) and Deep Learning (DL) models and adopting Artificial Intelligence (AI)? Eager to learn from many different enterprise’s use cases of AWS ML and DL? Thrilled to be key part of Amazon, who has been investing in Machine Learning for decades, pioneering and shaping the world’s AI technology?\n",
    "\n",
    "At Amazon Web Services (AWS), we are helping the federal government build ML and DL models on the AWS Cloud. We are applying predictive technology to large volumes of data and against a wide spectrum of problems. Our Professional Services organization works together with our AWS customers to address their business needs using AI.\n",
    "\n",
    "AWS Professional Services is a unique consulting team. We pride ourselves on being customer obsessed and highly focused on the AI enablement of our customers. If you have experience with AI, including building ML or DL models, we’d love to have you join our team. You will get to work with an innovative company, with great teammates, and have a lot of fun helping our customers.\n",
    "\n",
    "In this role, you will be able to dive deep into data, discovering root causes, and designing long-term solutions. It will be a person who likes to have fun, loves to learn, and wants to innovate in the world of AI.\n",
    "\n",
    "### Major responsibilities include:\n",
    "- Understand the customer’s business need and guide them to a solution using our AWS AI Services, AWS AI Platforms, AWS AI Frameworks, and AWS AI EC2 Instances - Assist customers by being able to deliver a ML / DL project from beginning to end, including understanding the business need, aggregating data, exploring data, building & validating predictive models, and deploying completed models to deliver business impact to the organization.\n",
    "- Use Deep Learning frameworks like MXNet, Caffe 2, Tensorflow, Theano, CNTK, and Keras to help our customers build DL models.\n",
    "- Use SparkML and Amazon Machine Learning (AML) to help our customers build ML models.\n",
    "- Work with our Professional Services Big Data consultants to analyze, extract, normalize, and label relevant data.\n",
    "- Work with our Professional Services DevOps consultants to help our customers operationalize models after they are built.\n",
    "- Assist customers with identifying model drift and retraining models.\n",
    "- Research and implement novel ML and DL approaches, including using FPGA.\n",
    "\n",
    "### BASIC QUALIFICATIONS\n",
    "- A Bachelor or Masters Degree in a highly quantitative field (Computer Science, Machine Learning, Operations Research, Statistics, Mathematics, etc.) or equivalent experience\n",
    "- 3+ years of industry experience in predictive modeling, data science and analysis\n",
    "- Previous experience in a ML or data scientist role and a track record of building ML or DL models\n",
    "\n",
    "### PREFERRED QUALIFICATIONS\n",
    "- Graduate degree in a highly quantitative field (Computer Science, Machine Learning, Operations Research, Statistics, Mathematics, etc.)\n",
    "- 5+ years of industry experience in predictive modeling and analysis\n",
    "- Good skills with programming languages, such as Java or C/C++\n",
    "- Ability to develop experimental and analytic plans for data modeling processes, use of strong baselines, ability to accurately identify cause and effect relationships\n",
    "- Consulting experience and track record of helping customers with their AI needs\n",
    "- Publications or presentation in recognized Machine Learning, Deep Learning and Data Mining journals/conferences\n",
    "- Experience using Python and/or R\n",
    "- Knowledge of SparkML\n",
    "- Able to write production level code, which is well-written and explainable\n",
    "- Experience using ML libraries, such as scikit-learn, caret, mlr, mllib\n",
    "- Experience working with GPUs to develop models\n",
    "- Experience handling terabyte size datasets\n",
    "- Track record of diving into data to discover hidden patterns\n",
    "- Familiarity with using data visualization tools\n",
    "- Knowledge and experience of writing and tuning SQL\n",
    "- Past and current experience writing and speaking about complex technical concepts to broad audiences in a simplified format\n",
    "- Experience giving data presentations\n",
    "- Strong written and verbal communication skills\n",
    "- Experience with AWS technologies like Redshift, S3, EC2, Data Pipeline, & EMR\n",
    "- Combination of deep technical skills and business savvy enough to interface with all levels and disciplines within our customer’s organization\n",
    "- Demonstrable track record of dealing well with ambiguity, prioritizing needs, and delivering results in a dynamic environment"
   ]
  },
  {
   "cell_type": "code",
   "execution_count": null,
   "metadata": {},
   "outputs": [],
   "source": []
  }
 ],
 "metadata": {
  "kernelspec": {
   "display_name": "Python 3",
   "language": "python",
   "name": "python3"
  },
  "language_info": {
   "codemirror_mode": {
    "name": "ipython",
    "version": 3
   },
   "file_extension": ".py",
   "mimetype": "text/x-python",
   "name": "python",
   "nbconvert_exporter": "python",
   "pygments_lexer": "ipython3",
   "version": "3.7.4"
  }
 },
 "nbformat": 4,
 "nbformat_minor": 4
}
