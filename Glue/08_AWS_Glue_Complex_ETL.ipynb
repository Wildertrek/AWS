{
 "cells": [
  {
   "cell_type": "markdown",
   "metadata": {},
   "source": [
    "## Performing Complex ETL Activities Using Workflows in AWS Glue\n",
    "\n",
    "A workflow is a container for a set of related jobs, crawlers, and triggers in AWS Glue. Using a workflow, you can design a complex multi-job extract, transform, and load (ETL) activity that AWS Glue can execute and track as single entity.\n",
    "\n",
    "You can create workflows using the AWS Management Console or the AWS Glue API. The console enables you to visualize the components and flow of a workflow with a graph.\n",
    "\n",
    "Topics\n",
    "\n",
    "- [Overview of Workflows in AWS Glue](https://docs.aws.amazon.com/glue/latest/dg/workflows_overview.html)\n",
    "- [Creating and Running Workflows in AWS Glue](https://docs.aws.amazon.com/glue/latest/dg/creating_running_workflows.html)\n",
    "- [Stopping a Workflow Run](https://docs.aws.amazon.com/glue/latest/dg/workflow-stopping.html)\n",
    "- [Repairing and Resuming a Workflow Run](https://docs.aws.amazon.com/glue/latest/dg/resuming-workflow.html)\n",
    "- [Getting and Setting Workflow Run Properties](https://docs.aws.amazon.com/glue/latest/dg/workflow-run-properties-code.html)\n",
    "- [Querying Workflows Using the AWS Glue API](https://docs.aws.amazon.com/glue/latest/dg/workflows_api_concepts.html)\n",
    "\n"
   ]
  }
 ],
 "metadata": {
  "kernelspec": {
   "display_name": "Python 3",
   "language": "python",
   "name": "python3"
  },
  "language_info": {
   "codemirror_mode": {
    "name": "ipython",
    "version": 3
   },
   "file_extension": ".py",
   "mimetype": "text/x-python",
   "name": "python",
   "nbconvert_exporter": "python",
   "pygments_lexer": "ipython3",
   "version": "3.7.4"
  }
 },
 "nbformat": 4,
 "nbformat_minor": 4
}
