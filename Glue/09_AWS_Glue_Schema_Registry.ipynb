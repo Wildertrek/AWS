{
 "cells": [
  {
   "cell_type": "markdown",
   "metadata": {},
   "source": [
    "## AWS Glue Schema Registry\n",
    "https://docs.aws.amazon.com/glue/latest/dg/schema-registry.html\n",
    "\n",
    "The AWS Glue Schema Registry is a new feature that allows you to centrally discover, control, and evolve data stream schemas. A schema defines the structure and format of a data record. With AWS Glue Schema Registry, you can manage and enforce schemas on your data streaming applications using convenient integrations with Apache Kafka, [Amazon Managed Streaming for Apache Kafka](https://aws.amazon.com/msk/), [Amazon Kinesis Data Streams](https://aws.amazon.com/kinesis/data-streams/), [Amazon Kinesis Data Analytics for Apache Flink](https://aws.amazon.com/kinesis/data-analytics/), and [AWS Lambda](https://aws.amazon.com/lambda/).\n",
    "\n",
    "The AWS Glue Schema Registry supports AVRO data format and Java language support, with other data formats and languages to come. Supported features include compatibility, schema sourcing via metadata, auto-registration of schemas, IAM compatibility, and optional ZLIB compression to reduce storage and data transfer. AWS Glue Schema Registry is serverless and free to use.\n",
    "\n",
    "Using a schema as a data format contract between producers and consumers leads to improved data governance, higher quality data, and enables data consumers to be resilient to compatible upstream changes.\n",
    "\n",
    "The Schema Registry allows disparate systems to share a schema for serialization and de-serialization. For example, assume you have a producer and consumer of data. The producer knows the schema when it publishes the data. The Schema Registry supplies a serializer and deserializer for certain systems such as Amazon MSK or Apache Kafka.\n",
    "\n",
    "For more information, see How the [Schema Registry Works](https://docs.aws.amazon.com/glue/latest/dg/schema-registry-works.html).\n",
    "\n",
    "Topics\n",
    "\n",
    "- [Schemas]()\n",
    "- [Open Source Serde Libraries]()\n",
    "- [Quotas of the Schema Registry]()\n",
    "- [How the Schema Registry Works]()\n",
    "- [Getting Started with Schema Registry]()\n",
    "- [Integrating with AWS Glue Schema Registry]()"
   ]
  }
 ],
 "metadata": {
  "kernelspec": {
   "display_name": "Python 3",
   "language": "python",
   "name": "python3"
  },
  "language_info": {
   "codemirror_mode": {
    "name": "ipython",
    "version": 3
   },
   "file_extension": ".py",
   "mimetype": "text/x-python",
   "name": "python",
   "nbconvert_exporter": "python",
   "pygments_lexer": "ipython3",
   "version": "3.7.4"
  }
 },
 "nbformat": 4,
 "nbformat_minor": 4
}
