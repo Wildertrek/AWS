{
 "cells": [
  {
   "cell_type": "markdown",
   "metadata": {},
   "source": [
    "## Authoring Jobs in AWS Glue\n",
    "https://docs.aws.amazon.com/glue/latest/dg/author-job.html\n",
    "\n",
    "A job is the business logic that performs the extract, transform, and load (ETL) work in AWS Glue. When you start a job, AWS Glue runs a script that extracts data from sources, transforms the data, and loads it into targets. You can create jobs in the ETL section of the AWS Glue console. For more information, see [Working with Jobs on the AWS Glue Console](https://docs.aws.amazon.com/glue/latest/dg/console-jobs.html)."
   ]
  },
  {
   "cell_type": "markdown",
   "metadata": {},
   "source": [
    "The following diagram summarizes the basic workflow and steps involved in authoring a job in AWS Glue:\n",
    "<img src=\"https://docs.aws.amazon.com/glue/latest/dg/images/AuthorJob-overview.png\" align=\"left\" alt=\"populate catalog\" width = \"800\">"
   ]
  },
  {
   "cell_type": "markdown",
   "metadata": {},
   "source": [
    "Topics\n",
    "\n",
    "- [Workflow Overview](https://docs.aws.amazon.com/glue/latest/dg/author-job.html#author-job-workflow)\n",
    "- [Adding Jobs in AWS Glue](https://docs.aws.amazon.com/glue/latest/dg/add-job.html)\n",
    "- [Editing Scripts in AWS Glue](https://docs.aws.amazon.com/glue/latest/dg/edit-script.html)\n",
    "- [Working with MongoDB Connections in ETL Jobs](https://docs.aws.amazon.com/glue/latest/dg/integrate-with-mongo-db.html)\n",
    "- [Developing Scripts Using Development Endpoints](https://docs.aws.amazon.com/glue/latest/dg/dev-endpoint.html)\n",
    "- [Managing Notebooks](https://docs.aws.amazon.com/glue/latest/dg/notebooks-with-glue.html)\n",
    "\n",
    "Workflow Overview\n",
    "When you author a job, you supply details about data sources, targets, and other information. The result is a generated Apache Spark API (PySpark) script. You can then store your job definition in the AWS Glue Data Catalog.\n",
    "\n",
    "The following describes an overall process of authoring jobs in the AWS Glue console:\n",
    "\n",
    "1. You choose a data source for your job. The tables that represent your data source must already be defined in your Data Catalog. If the source requires a connection, the connection is also referenced in your job. If your job requires multiple data sources, you can add them later by editing the script.\n",
    "\n",
    "2. You choose a data target of your job. The tables that represent the data target can be defined in your Data Catalog, or your job can create the target tables when it runs. You choose a target location when you author the job. If the target requires a connection, the connection is also referenced in your job. If your job requires multiple data targets, you can add them later by editing the script.\n",
    "\n",
    "3. You customize the job-processing environment by providing arguments for your job and generated script. For more information, see [Adding Jobs in AWS Glue](https://docs.aws.amazon.com/glue/latest/dg/add-job.html).\n",
    "\n",
    "4. Initially, AWS Glue generates a script, but you can also edit this script to add sources, targets, and transforms. For more information about transforms, see [Built-In Transforms](https://docs.aws.amazon.com/glue/latest/dg/built-in-transforms.html).\n",
    "\n",
    "5. You specify how your job is invoked, either on demand, by a time-based schedule, or by an event. For more information, see [Starting Jobs and Crawlers Using Triggers](https://docs.aws.amazon.com/glue/latest/dg/trigger-job.html).\n",
    "\n",
    "6. Based on your input, AWS Glue generates a PySpark or Scala script. You can tailor the script based on your business needs. For more information, see [Editing Scripts in AWS Glue](https://docs.aws.amazon.com/glue/latest/dg/edit-script.html)."
   ]
  },
  {
   "cell_type": "code",
   "execution_count": null,
   "metadata": {},
   "outputs": [],
   "source": []
  }
 ],
 "metadata": {
  "kernelspec": {
   "display_name": "Python 3",
   "language": "python",
   "name": "python3"
  },
  "language_info": {
   "codemirror_mode": {
    "name": "ipython",
    "version": 3
   },
   "file_extension": ".py",
   "mimetype": "text/x-python",
   "name": "python",
   "nbconvert_exporter": "python",
   "pygments_lexer": "ipython3",
   "version": "3.7.4"
  }
 },
 "nbformat": 4,
 "nbformat_minor": 4
}
