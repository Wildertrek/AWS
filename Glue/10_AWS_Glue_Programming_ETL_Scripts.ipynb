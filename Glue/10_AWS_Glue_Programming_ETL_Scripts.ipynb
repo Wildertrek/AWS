{
 "cells": [
  {
   "cell_type": "markdown",
   "metadata": {},
   "source": [
    "## Programming ETL Scripts\n",
    "\n",
    "AWS Glue makes it easy to write or autogenerate extract, transform, and load (ETL) scripts, in addition to testing and running them. This section describes the extensions to Apache Spark that AWS Glue has introduced, and provides examples of how to code and run ETL scripts in Python and Scala.\n",
    "\n",
    "Topics\n",
    "\n",
    "- [General Information about Programming AWS Glue ETL Scripts](https://docs.aws.amazon.com/glue/latest/dg/aws-glue-programming-general.html)\n",
    "- [Program AWS Glue ETL Scripts in Python](https://docs.aws.amazon.com/glue/latest/dg/aws-glue-programming-python.html)\n",
    "- [Programming AWS Glue ETL Scripts in Scala](https://docs.aws.amazon.com/glue/latest/dg/aws-glue-programming-scala.html)"
   ]
  }
 ],
 "metadata": {
  "kernelspec": {
   "display_name": "Python 3",
   "language": "python",
   "name": "python3"
  },
  "language_info": {
   "codemirror_mode": {
    "name": "ipython",
    "version": 3
   },
   "file_extension": ".py",
   "mimetype": "text/x-python",
   "name": "python",
   "nbconvert_exporter": "python",
   "pygments_lexer": "ipython3",
   "version": "3.7.4"
  }
 },
 "nbformat": 4,
 "nbformat_minor": 4
}
