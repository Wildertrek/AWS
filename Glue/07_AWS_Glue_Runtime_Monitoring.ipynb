{
 "cells": [
  {
   "cell_type": "markdown",
   "metadata": {},
   "source": [
    "## Running and Monitoring AWS Glue\n",
    "https://docs.aws.amazon.com/glue/latest/dg/monitor-glue.html\n",
    "\n",
    "You can automate the running of your ETL (extract, transform, and load) jobs. AWS Glue also provides metrics for crawlers and jobs that you can monitor. After you set up the AWS Glue Data Catalog with the required metadata, AWS Glue provides statistics about the health of your environment. You can automate the invocation of crawlers and jobs with a time-based schedule based on cron. You can also trigger jobs when an event-based trigger fires.\n",
    "\n",
    "The main objective of AWS Glue is to provide an easier way to extract and transform your data from source to target. To accomplish this objective, an ETL job follows these typical steps (as shown in the diagram that follows):\n",
    "\n",
    "1. A trigger fires to initiate a job run. This event can be set up on a recurring schedule or to satisfy a dependency.\n",
    "\n",
    "2. The job extracts data from your source. If required, connection properties are used to access your source.\n",
    "\n",
    "3. The job transforms your data using a script that you created and the values of any arguments. The script contains the Scala or PySpark Python code that transforms your data.\n",
    "\n",
    "4. The transformed data is loaded to your data targets. If required, connection properties are used to access the target.\n",
    "\n",
    "5. Statistics are collected about the job run and are written to your Data Catalog."
   ]
  },
  {
   "cell_type": "markdown",
   "metadata": {},
   "source": [
    "The following diagram shows the ETL workflow containing these five steps.\n",
    "\n",
    "<img src=\"https://docs.aws.amazon.com/glue/latest/dg/images/MonitorJobRun-overview.png\" align=\"left\" alt=\"monitoring glue\" width = \"800\">"
   ]
  },
  {
   "cell_type": "markdown",
   "metadata": {},
   "source": [
    "Topics\n",
    "\n",
    "- [Automated Monitoring Tools](https://docs.aws.amazon.com/glue/latest/dg/monitor-glue.html#monitoring-automated_tools)\n",
    "- [Time-Based Schedules for Jobs and Crawlers](https://docs.aws.amazon.com/glue/latest/dg/monitor-data-warehouse-schedule.html)\n",
    "- [Tracking Processed Data Using Job Bookmarks](https://docs.aws.amazon.com/glue/latest/dg/monitor-continuations.html)\n",
    "- [Workload Partitioning with Bounded Execution](https://docs.aws.amazon.com/glue/latest/dg/bounded-execution.html)\n",
    "- [AWS Tags in AWS Glue](https://docs.aws.amazon.com/glue/latest/dg/monitor-tags.html)\n",
    "- [Automating AWS Glue with CloudWatch Events](https://docs.aws.amazon.com/glue/latest/dg/automating-awsglue-with-cloudwatch-events.html)\n",
    "- [Monitoring Jobs Using the Apache Spark Web UI](https://docs.aws.amazon.com/glue/latest/dg/monitor-spark-ui.html)\n",
    "- [Monitoring with Amazon CloudWatch](https://docs.aws.amazon.com/glue/latest/dg/monitor-cloudwatch.html)\n",
    "- [Job Monitoring and Debugging](https://docs.aws.amazon.com/glue/latest/dg/monitor-profile-glue-job-cloudwatch-metrics.html)\n",
    "- [Logging AWS Glue API Calls with AWS CloudTrail](https://docs.aws.amazon.com/glue/latest/dg/monitor-cloudtrail.html)\n",
    "- [AWS Glue Job Run Statuses](https://docs.aws.amazon.com/glue/latest/dg/job-run-statuses.html)\n",
    "\n",
    "\n",
    "Automated Monitoring Tools\n",
    "Monitoring is an important part of maintaining the reliability, availability, and performance of AWS Glue and your other AWS solutions. AWS provides monitoring tools that you can use to watch AWS Glue, report when something is wrong, and take action automatically when appropriate:\n",
    "\n",
    "You can use the following automated monitoring tools to watch AWS Glue and report when something is wrong:\n",
    "\n",
    "- __Amazon CloudWatch__ Events delivers a near real-time stream of system events that describe changes in AWS resources. CloudWatch Events enables automated event-driven computing. You can write rules that watch for certain events and trigger automated actions in other AWS services when these events occur. For more information, see the [Amazon CloudWatch Events User Guide](https://docs.aws.amazon.com/AmazonCloudWatch/latest/events/).\n",
    "\n",
    "- __Amazon CloudWatch__ Logs enables you to monitor, store, and access your log files from Amazon EC2 instances, AWS CloudTrail, and other sources. CloudWatch Logs can monitor information in the log files and notify you when certain thresholds are met. You can also archive your log data in highly durable storage. For more information, see the [Amazon CloudWatch Logs User Guide](https://docs.aws.amazon.com/AmazonCloudWatch/latest/logs/).\n",
    "\n",
    "- __AWS CloudTrail__ captures API calls and related events made by or on behalf of your AWS account and delivers the log files to an Amazon S3 bucket that you specify. You can identify which users and accounts call AWS, the source IP address from which the calls are made, and when the calls occur. For more information, see the [AWS CloudTrail User Guide](https://docs.aws.amazon.com/awscloudtrail/latest/userguide/)."
   ]
  }
 ],
 "metadata": {
  "kernelspec": {
   "display_name": "Python 3",
   "language": "python",
   "name": "python3"
  },
  "language_info": {
   "codemirror_mode": {
    "name": "ipython",
    "version": 3
   },
   "file_extension": ".py",
   "mimetype": "text/x-python",
   "name": "python",
   "nbconvert_exporter": "python",
   "pygments_lexer": "ipython3",
   "version": "3.7.4"
  }
 },
 "nbformat": 4,
 "nbformat_minor": 4
}
