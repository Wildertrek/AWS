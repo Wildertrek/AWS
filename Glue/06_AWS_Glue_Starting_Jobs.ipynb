{
 "cells": [
  {
   "cell_type": "markdown",
   "metadata": {},
   "source": [
    "## Starting Jobs and Crawlers Using Triggers\n",
    "\n",
    "In AWS Glue, you can create Data Catalog objects called triggers, which you can use to either manually or automatically start one or more crawlers or extract, transform, and load (ETL) jobs. Using triggers, you can design a chain of dependent jobs and crawlers.\n",
    "\n",
    "Note\n",
    "You can accomplish the same thing by defining workflows. Workflows are preferred for creating complex multi-job ETL operations. For more information, see [Performing Complex ETL Activities Using Workflows in AWS Glue](https://docs.aws.amazon.com/glue/latest/dg/orchestrate-using-workflows.html).\n",
    "\n",
    "Topics\n",
    "\n",
    "- [AWS Glue Triggers](https://docs.aws.amazon.com/glue/latest/dg/about-triggers.html)\n",
    "- [Adding Triggers](https://docs.aws.amazon.com/glue/latest/dg/console-triggers.html)\n",
    "- [Activating and Deactivating Triggers](https://docs.aws.amazon.com/glue/latest/dg/activate-triggers.html)"
   ]
  }
 ],
 "metadata": {
  "kernelspec": {
   "display_name": "Python 3",
   "language": "python",
   "name": "python3"
  },
  "language_info": {
   "codemirror_mode": {
    "name": "ipython",
    "version": 3
   },
   "file_extension": ".py",
   "mimetype": "text/x-python",
   "name": "python",
   "nbconvert_exporter": "python",
   "pygments_lexer": "ipython3",
   "version": "3.7.4"
  }
 },
 "nbformat": 4,
 "nbformat_minor": 4
}
